{
 "cells": [
  {
   "cell_type": "code",
   "execution_count": 3,
   "id": "f8fcc442-a175-41c3-8411-94d4016040bb",
   "metadata": {},
   "outputs": [],
   "source": [
    "import numpy as np\n",
    "import pandas as pd\n",
    "import matplotlib.pyplot as plt\n",
    "import seaborn as sns\n",
    "\n",
    "import warnings\n",
    "warnings.filterwarnings('ignore')"
   ]
  },
  {
   "cell_type": "code",
   "execution_count": 5,
   "id": "44cc8f46-ba63-4244-a86f-9a8ac453e2ae",
   "metadata": {},
   "outputs": [],
   "source": [
    "df = pd.read_csv('questions.csv')"
   ]
  },
  {
   "cell_type": "code",
   "execution_count": 7,
   "id": "eb10af63-db50-4851-8457-2ee34300a962",
   "metadata": {},
   "outputs": [
    {
     "data": {
      "text/plain": [
       "(404351, 6)"
      ]
     },
     "execution_count": 7,
     "metadata": {},
     "output_type": "execute_result"
    }
   ],
   "source": [
    "df.shape"
   ]
  },
  {
   "cell_type": "code",
   "execution_count": 9,
   "id": "e4790fe5-c738-477b-9192-61954fd3a8d6",
   "metadata": {},
   "outputs": [
    {
     "data": {
      "text/html": [
       "<div>\n",
       "<style scoped>\n",
       "    .dataframe tbody tr th:only-of-type {\n",
       "        vertical-align: middle;\n",
       "    }\n",
       "\n",
       "    .dataframe tbody tr th {\n",
       "        vertical-align: top;\n",
       "    }\n",
       "\n",
       "    .dataframe thead th {\n",
       "        text-align: right;\n",
       "    }\n",
       "</style>\n",
       "<table border=\"1\" class=\"dataframe\">\n",
       "  <thead>\n",
       "    <tr style=\"text-align: right;\">\n",
       "      <th></th>\n",
       "      <th>id</th>\n",
       "      <th>qid1</th>\n",
       "      <th>qid2</th>\n",
       "      <th>question1</th>\n",
       "      <th>question2</th>\n",
       "      <th>is_duplicate</th>\n",
       "    </tr>\n",
       "  </thead>\n",
       "  <tbody>\n",
       "    <tr>\n",
       "      <th>0</th>\n",
       "      <td>0</td>\n",
       "      <td>1</td>\n",
       "      <td>2</td>\n",
       "      <td>What is the step by step guide to invest in sh...</td>\n",
       "      <td>What is the step by step guide to invest in sh...</td>\n",
       "      <td>0</td>\n",
       "    </tr>\n",
       "    <tr>\n",
       "      <th>1</th>\n",
       "      <td>1</td>\n",
       "      <td>3</td>\n",
       "      <td>4</td>\n",
       "      <td>What is the story of Kohinoor (Koh-i-Noor) Dia...</td>\n",
       "      <td>What would happen if the Indian government sto...</td>\n",
       "      <td>0</td>\n",
       "    </tr>\n",
       "    <tr>\n",
       "      <th>2</th>\n",
       "      <td>2</td>\n",
       "      <td>5</td>\n",
       "      <td>6</td>\n",
       "      <td>How can I increase the speed of my internet co...</td>\n",
       "      <td>How can Internet speed be increased by hacking...</td>\n",
       "      <td>0</td>\n",
       "    </tr>\n",
       "    <tr>\n",
       "      <th>3</th>\n",
       "      <td>3</td>\n",
       "      <td>7</td>\n",
       "      <td>8</td>\n",
       "      <td>Why am I mentally very lonely? How can I solve...</td>\n",
       "      <td>Find the remainder when [math]23^{24}[/math] i...</td>\n",
       "      <td>0</td>\n",
       "    </tr>\n",
       "    <tr>\n",
       "      <th>4</th>\n",
       "      <td>4</td>\n",
       "      <td>9</td>\n",
       "      <td>10</td>\n",
       "      <td>Which one dissolve in water quikly sugar, salt...</td>\n",
       "      <td>Which fish would survive in salt water?</td>\n",
       "      <td>0</td>\n",
       "    </tr>\n",
       "  </tbody>\n",
       "</table>\n",
       "</div>"
      ],
      "text/plain": [
       "   id  qid1  qid2                                          question1  \\\n",
       "0   0     1     2  What is the step by step guide to invest in sh...   \n",
       "1   1     3     4  What is the story of Kohinoor (Koh-i-Noor) Dia...   \n",
       "2   2     5     6  How can I increase the speed of my internet co...   \n",
       "3   3     7     8  Why am I mentally very lonely? How can I solve...   \n",
       "4   4     9    10  Which one dissolve in water quikly sugar, salt...   \n",
       "\n",
       "                                           question2  is_duplicate  \n",
       "0  What is the step by step guide to invest in sh...             0  \n",
       "1  What would happen if the Indian government sto...             0  \n",
       "2  How can Internet speed be increased by hacking...             0  \n",
       "3  Find the remainder when [math]23^{24}[/math] i...             0  \n",
       "4            Which fish would survive in salt water?             0  "
      ]
     },
     "execution_count": 9,
     "metadata": {},
     "output_type": "execute_result"
    }
   ],
   "source": [
    "df.head()"
   ]
  },
  {
   "cell_type": "code",
   "execution_count": 11,
   "id": "f1b58657-3965-463a-adf3-af62a54d6f46",
   "metadata": {},
   "outputs": [],
   "source": [
    "new_df = df.sample(30000,random_state=20)"
   ]
  },
  {
   "cell_type": "code",
   "execution_count": 13,
   "id": "a3b25e2a-887a-4286-ab94-20fcceb13e8a",
   "metadata": {},
   "outputs": [
    {
     "data": {
      "text/plain": [
       "id              0\n",
       "qid1            0\n",
       "qid2            0\n",
       "question1       0\n",
       "question2       0\n",
       "is_duplicate    0\n",
       "dtype: int64"
      ]
     },
     "execution_count": 13,
     "metadata": {},
     "output_type": "execute_result"
    }
   ],
   "source": [
    "new_df.isnull().sum()"
   ]
  },
  {
   "cell_type": "code",
   "execution_count": 15,
   "id": "c4fe9ba4-b88f-4e1e-8c7c-edcfb393ab96",
   "metadata": {},
   "outputs": [
    {
     "data": {
      "text/html": [
       "<div>\n",
       "<style scoped>\n",
       "    .dataframe tbody tr th:only-of-type {\n",
       "        vertical-align: middle;\n",
       "    }\n",
       "\n",
       "    .dataframe tbody tr th {\n",
       "        vertical-align: top;\n",
       "    }\n",
       "\n",
       "    .dataframe thead th {\n",
       "        text-align: right;\n",
       "    }\n",
       "</style>\n",
       "<table border=\"1\" class=\"dataframe\">\n",
       "  <thead>\n",
       "    <tr style=\"text-align: right;\">\n",
       "      <th></th>\n",
       "      <th>id</th>\n",
       "      <th>qid1</th>\n",
       "      <th>qid2</th>\n",
       "      <th>question1</th>\n",
       "      <th>question2</th>\n",
       "      <th>is_duplicate</th>\n",
       "    </tr>\n",
       "  </thead>\n",
       "  <tbody>\n",
       "    <tr>\n",
       "      <th>67050</th>\n",
       "      <td>67050</td>\n",
       "      <td>133306</td>\n",
       "      <td>133307</td>\n",
       "      <td>How much black money would be recovered in 201...</td>\n",
       "      <td>How much black money has been recovered after ...</td>\n",
       "      <td>0</td>\n",
       "    </tr>\n",
       "    <tr>\n",
       "      <th>156722</th>\n",
       "      <td>156722</td>\n",
       "      <td>309930</td>\n",
       "      <td>309931</td>\n",
       "      <td>Does a magnetic field have mass?</td>\n",
       "      <td>Can we increase the mass of an electron accele...</td>\n",
       "      <td>0</td>\n",
       "    </tr>\n",
       "    <tr>\n",
       "      <th>318365</th>\n",
       "      <td>318365</td>\n",
       "      <td>624667</td>\n",
       "      <td>624668</td>\n",
       "      <td>Why has Dhoni left the captaincy from ODI and ...</td>\n",
       "      <td>Why did M.S.Dhoni left captaincy from ODI &amp; T20?</td>\n",
       "      <td>1</td>\n",
       "    </tr>\n",
       "    <tr>\n",
       "      <th>225123</th>\n",
       "      <td>225123</td>\n",
       "      <td>443700</td>\n",
       "      <td>443701</td>\n",
       "      <td>Where can I get best assistance in Sydney for ...</td>\n",
       "      <td>Where can I get highest quality service at exc...</td>\n",
       "      <td>1</td>\n",
       "    </tr>\n",
       "    <tr>\n",
       "      <th>256584</th>\n",
       "      <td>256584</td>\n",
       "      <td>505029</td>\n",
       "      <td>505030</td>\n",
       "      <td>As a web developer how can I contribute to ope...</td>\n",
       "      <td>How do I contribute on GitHub?</td>\n",
       "      <td>1</td>\n",
       "    </tr>\n",
       "  </tbody>\n",
       "</table>\n",
       "</div>"
      ],
      "text/plain": [
       "            id    qid1    qid2  \\\n",
       "67050    67050  133306  133307   \n",
       "156722  156722  309930  309931   \n",
       "318365  318365  624667  624668   \n",
       "225123  225123  443700  443701   \n",
       "256584  256584  505029  505030   \n",
       "\n",
       "                                                question1  \\\n",
       "67050   How much black money would be recovered in 201...   \n",
       "156722                   Does a magnetic field have mass?   \n",
       "318365  Why has Dhoni left the captaincy from ODI and ...   \n",
       "225123  Where can I get best assistance in Sydney for ...   \n",
       "256584  As a web developer how can I contribute to ope...   \n",
       "\n",
       "                                                question2  is_duplicate  \n",
       "67050   How much black money has been recovered after ...             0  \n",
       "156722  Can we increase the mass of an electron accele...             0  \n",
       "318365   Why did M.S.Dhoni left captaincy from ODI & T20?             1  \n",
       "225123  Where can I get highest quality service at exc...             1  \n",
       "256584                     How do I contribute on GitHub?             1  "
      ]
     },
     "execution_count": 15,
     "metadata": {},
     "output_type": "execute_result"
    }
   ],
   "source": [
    "new_df.head()"
   ]
  },
  {
   "cell_type": "code",
   "execution_count": 17,
   "id": "cc8514ca-20ce-495b-a478-ccc55801f099",
   "metadata": {},
   "outputs": [
    {
     "data": {
      "text/plain": [
       "0"
      ]
     },
     "execution_count": 17,
     "metadata": {},
     "output_type": "execute_result"
    }
   ],
   "source": [
    "new_df.duplicated().sum()"
   ]
  },
  {
   "cell_type": "code",
   "execution_count": 19,
   "id": "26681225-4c1a-4628-9fa4-b53203b2b951",
   "metadata": {},
   "outputs": [
    {
     "name": "stdout",
     "output_type": "stream",
     "text": [
      "is_duplicate\n",
      "0    18814\n",
      "1    11186\n",
      "Name: count, dtype: int64\n",
      "is_duplicate\n",
      "0    62.713333\n",
      "1    37.286667\n",
      "Name: count, dtype: float64\n"
     ]
    },
    {
     "data": {
      "text/plain": [
       "<Axes: xlabel='is_duplicate'>"
      ]
     },
     "execution_count": 19,
     "metadata": {},
     "output_type": "execute_result"
    },
    {
     "data": {
      "image/png": "[encoded data removed]",
      "text/plain": [
       "<Figure size 640x480 with 1 Axes>"
      ]
     },
     "metadata": {},
     "output_type": "display_data"
    }
   ],
   "source": [
    "# Distribution of duplicate and non-duplicate questions\n",
    "\n",
    "print(new_df['is_duplicate'].value_counts())\n",
    "print((new_df['is_duplicate'].value_counts()/new_df['is_duplicate'].count())*100)\n",
    "new_df['is_duplicate'].value_counts().plot(kind='bar')"
   ]
  },
  {
   "cell_type": "code",
   "execution_count": 21,
   "id": "983202ff-081e-49c4-8e5f-9decc339385a",
   "metadata": {},
   "outputs": [
    {
     "name": "stdout",
     "output_type": "stream",
     "text": [
      "Number of unique questions 59841\n",
      "Number of questions getting repeated 150\n"
     ]
    }
   ],
   "source": [
    "# Repeated questions\n",
    "\n",
    "qid = pd.Series(new_df['qid1'].tolist() + new_df['qid2'].tolist())\n",
    "print('Number of unique questions',np.unique(qid).shape[0])\n",
    "x = qid.value_counts()>1\n",
    "print('Number of questions getting repeated',x[x].shape[0])"
   ]
  },
  {
   "cell_type": "code",
   "execution_count": 23,
   "id": "ddeb122d-8b8c-4078-a39a-431c8653ec1a",
   "metadata": {},
   "outputs": [
    {
     "data": {
      "image/png": "[encoded data removed]",
      "text/plain": [
       "<Figure size 640x480 with 1 Axes>"
      ]
     },
     "metadata": {},
     "output_type": "display_data"
    }
   ],
   "source": [
    "# Repeated questions histogram\n",
    "\n",
    "plt.hist(qid.value_counts().values,bins=160)\n",
    "plt.yscale('log')\n",
    "plt.show()"
   ]
  },
  {
   "cell_type": "code",
   "execution_count": 25,
   "id": "42ab8e4e-5807-40f3-a099-0e0253836ea7",
   "metadata": {},
   "outputs": [
    {
     "data": {
      "text/html": [
       "<div>\n",
       "<style scoped>\n",
       "    .dataframe tbody tr th:only-of-type {\n",
       "        vertical-align: middle;\n",
       "    }\n",
       "\n",
       "    .dataframe tbody tr th {\n",
       "        vertical-align: top;\n",
       "    }\n",
       "\n",
       "    .dataframe thead th {\n",
       "        text-align: right;\n",
       "    }\n",
       "</style>\n",
       "<table border=\"1\" class=\"dataframe\">\n",
       "  <thead>\n",
       "    <tr style=\"text-align: right;\">\n",
       "      <th></th>\n",
       "      <th>id</th>\n",
       "      <th>qid1</th>\n",
       "      <th>qid2</th>\n",
       "      <th>question1</th>\n",
       "      <th>question2</th>\n",
       "      <th>is_duplicate</th>\n",
       "      <th>q1_len</th>\n",
       "      <th>q2_len</th>\n",
       "      <th>q1_num_words</th>\n",
       "      <th>q2_num_words</th>\n",
       "    </tr>\n",
       "  </thead>\n",
       "  <tbody>\n",
       "    <tr>\n",
       "      <th>67050</th>\n",
       "      <td>67050</td>\n",
       "      <td>133306</td>\n",
       "      <td>133307</td>\n",
       "      <td>How much black money would be recovered in 201...</td>\n",
       "      <td>How much black money has been recovered after ...</td>\n",
       "      <td>0</td>\n",
       "      <td>69</td>\n",
       "      <td>101</td>\n",
       "      <td>11</td>\n",
       "      <td>19</td>\n",
       "    </tr>\n",
       "    <tr>\n",
       "      <th>156722</th>\n",
       "      <td>156722</td>\n",
       "      <td>309930</td>\n",
       "      <td>309931</td>\n",
       "      <td>Does a magnetic field have mass?</td>\n",
       "      <td>Can we increase the mass of an electron accele...</td>\n",
       "      <td>0</td>\n",
       "      <td>32</td>\n",
       "      <td>120</td>\n",
       "      <td>6</td>\n",
       "      <td>20</td>\n",
       "    </tr>\n",
       "    <tr>\n",
       "      <th>318365</th>\n",
       "      <td>318365</td>\n",
       "      <td>624667</td>\n",
       "      <td>624668</td>\n",
       "      <td>Why has Dhoni left the captaincy from ODI and ...</td>\n",
       "      <td>Why did M.S.Dhoni left captaincy from ODI &amp; T20?</td>\n",
       "      <td>1</td>\n",
       "      <td>50</td>\n",
       "      <td>48</td>\n",
       "      <td>10</td>\n",
       "      <td>9</td>\n",
       "    </tr>\n",
       "    <tr>\n",
       "      <th>225123</th>\n",
       "      <td>225123</td>\n",
       "      <td>443700</td>\n",
       "      <td>443701</td>\n",
       "      <td>Where can I get best assistance in Sydney for ...</td>\n",
       "      <td>Where can I get highest quality service at exc...</td>\n",
       "      <td>1</td>\n",
       "      <td>70</td>\n",
       "      <td>98</td>\n",
       "      <td>12</td>\n",
       "      <td>15</td>\n",
       "    </tr>\n",
       "    <tr>\n",
       "      <th>256584</th>\n",
       "      <td>256584</td>\n",
       "      <td>505029</td>\n",
       "      <td>505030</td>\n",
       "      <td>As a web developer how can I contribute to ope...</td>\n",
       "      <td>How do I contribute on GitHub?</td>\n",
       "      <td>1</td>\n",
       "      <td>65</td>\n",
       "      <td>30</td>\n",
       "      <td>13</td>\n",
       "      <td>6</td>\n",
       "    </tr>\n",
       "  </tbody>\n",
       "</table>\n",
       "</div>"
      ],
      "text/plain": [
       "            id    qid1    qid2  \\\n",
       "67050    67050  133306  133307   \n",
       "156722  156722  309930  309931   \n",
       "318365  318365  624667  624668   \n",
       "225123  225123  443700  443701   \n",
       "256584  256584  505029  505030   \n",
       "\n",
       "                                                question1  \\\n",
       "67050   How much black money would be recovered in 201...   \n",
       "156722                   Does a magnetic field have mass?   \n",
       "318365  Why has Dhoni left the captaincy from ODI and ...   \n",
       "225123  Where can I get best assistance in Sydney for ...   \n",
       "256584  As a web developer how can I contribute to ope...   \n",
       "\n",
       "                                                question2  is_duplicate  \\\n",
       "67050   How much black money has been recovered after ...             0   \n",
       "156722  Can we increase the mass of an electron accele...             0   \n",
       "318365   Why did M.S.Dhoni left captaincy from ODI & T20?             1   \n",
       "225123  Where can I get highest quality service at exc...             1   \n",
       "256584                     How do I contribute on GitHub?             1   \n",
       "\n",
       "        q1_len  q2_len  q1_num_words  q2_num_words  \n",
       "67050       69     101            11            19  \n",
       "156722      32     120             6            20  \n",
       "318365      50      48            10             9  \n",
       "225123      70      98            12            15  \n",
       "256584      65      30            13             6  "
      ]
     },
     "execution_count": 25,
     "metadata": {},
     "output_type": "execute_result"
    }
   ],
   "source": [
    "# Feature Engineering\n",
    "\n",
    "new_df['q1_len'] = new_df['question1'].str.len() \n",
    "new_df['q2_len'] = new_df['question2'].str.len()\n",
    "new_df['q1_num_words'] = new_df['question1'].apply(lambda row: len(row.split(\" \")))\n",
    "new_df['q2_num_words'] = new_df['question2'].apply(lambda row: len(row.split(\" \")))\n",
    "new_df.head()"
   ]
  },
  {
   "cell_type": "code",
   "execution_count": 27,
   "id": "fed08bc5-3cd4-4fe0-b2f7-43947e5dc799",
   "metadata": {},
   "outputs": [
    {
     "data": {
      "text/html": [
       "<div>\n",
       "<style scoped>\n",
       "    .dataframe tbody tr th:only-of-type {\n",
       "        vertical-align: middle;\n",
       "    }\n",
       "\n",
       "    .dataframe tbody tr th {\n",
       "        vertical-align: top;\n",
       "    }\n",
       "\n",
       "    .dataframe thead th {\n",
       "        text-align: right;\n",
       "    }\n",
       "</style>\n",
       "<table border=\"1\" class=\"dataframe\">\n",
       "  <thead>\n",
       "    <tr style=\"text-align: right;\">\n",
       "      <th></th>\n",
       "      <th>id</th>\n",
       "      <th>qid1</th>\n",
       "      <th>qid2</th>\n",
       "      <th>question1</th>\n",
       "      <th>question2</th>\n",
       "      <th>is_duplicate</th>\n",
       "      <th>q1_len</th>\n",
       "      <th>q2_len</th>\n",
       "      <th>q1_num_words</th>\n",
       "      <th>q2_num_words</th>\n",
       "      <th>word_common</th>\n",
       "    </tr>\n",
       "  </thead>\n",
       "  <tbody>\n",
       "    <tr>\n",
       "      <th>67050</th>\n",
       "      <td>67050</td>\n",
       "      <td>133306</td>\n",
       "      <td>133307</td>\n",
       "      <td>How much black money would be recovered in 201...</td>\n",
       "      <td>How much black money has been recovered after ...</td>\n",
       "      <td>0</td>\n",
       "      <td>69</td>\n",
       "      <td>101</td>\n",
       "      <td>11</td>\n",
       "      <td>19</td>\n",
       "      <td>6</td>\n",
       "    </tr>\n",
       "    <tr>\n",
       "      <th>156722</th>\n",
       "      <td>156722</td>\n",
       "      <td>309930</td>\n",
       "      <td>309931</td>\n",
       "      <td>Does a magnetic field have mass?</td>\n",
       "      <td>Can we increase the mass of an electron accele...</td>\n",
       "      <td>0</td>\n",
       "      <td>32</td>\n",
       "      <td>120</td>\n",
       "      <td>6</td>\n",
       "      <td>20</td>\n",
       "      <td>2</td>\n",
       "    </tr>\n",
       "    <tr>\n",
       "      <th>318365</th>\n",
       "      <td>318365</td>\n",
       "      <td>624667</td>\n",
       "      <td>624668</td>\n",
       "      <td>Why has Dhoni left the captaincy from ODI and ...</td>\n",
       "      <td>Why did M.S.Dhoni left captaincy from ODI &amp; T20?</td>\n",
       "      <td>1</td>\n",
       "      <td>50</td>\n",
       "      <td>48</td>\n",
       "      <td>10</td>\n",
       "      <td>9</td>\n",
       "      <td>6</td>\n",
       "    </tr>\n",
       "    <tr>\n",
       "      <th>225123</th>\n",
       "      <td>225123</td>\n",
       "      <td>443700</td>\n",
       "      <td>443701</td>\n",
       "      <td>Where can I get best assistance in Sydney for ...</td>\n",
       "      <td>Where can I get highest quality service at exc...</td>\n",
       "      <td>1</td>\n",
       "      <td>70</td>\n",
       "      <td>98</td>\n",
       "      <td>12</td>\n",
       "      <td>15</td>\n",
       "      <td>8</td>\n",
       "    </tr>\n",
       "    <tr>\n",
       "      <th>256584</th>\n",
       "      <td>256584</td>\n",
       "      <td>505029</td>\n",
       "      <td>505030</td>\n",
       "      <td>As a web developer how can I contribute to ope...</td>\n",
       "      <td>How do I contribute on GitHub?</td>\n",
       "      <td>1</td>\n",
       "      <td>65</td>\n",
       "      <td>30</td>\n",
       "      <td>13</td>\n",
       "      <td>6</td>\n",
       "      <td>5</td>\n",
       "    </tr>\n",
       "  </tbody>\n",
       "</table>\n",
       "</div>"
      ],
      "text/plain": [
       "            id    qid1    qid2  \\\n",
       "67050    67050  133306  133307   \n",
       "156722  156722  309930  309931   \n",
       "318365  318365  624667  624668   \n",
       "225123  225123  443700  443701   \n",
       "256584  256584  505029  505030   \n",
       "\n",
       "                                                question1  \\\n",
       "67050   How much black money would be recovered in 201...   \n",
       "156722                   Does a magnetic field have mass?   \n",
       "318365  Why has Dhoni left the captaincy from ODI and ...   \n",
       "225123  Where can I get best assistance in Sydney for ...   \n",
       "256584  As a web developer how can I contribute to ope...   \n",
       "\n",
       "                                                question2  is_duplicate  \\\n",
       "67050   How much black money has been recovered after ...             0   \n",
       "156722  Can we increase the mass of an electron accele...             0   \n",
       "318365   Why did M.S.Dhoni left captaincy from ODI & T20?             1   \n",
       "225123  Where can I get highest quality service at exc...             1   \n",
       "256584                     How do I contribute on GitHub?             1   \n",
       "\n",
       "        q1_len  q2_len  q1_num_words  q2_num_words  word_common  \n",
       "67050       69     101            11            19            6  \n",
       "156722      32     120             6            20            2  \n",
       "318365      50      48            10             9            6  \n",
       "225123      70      98            12            15            8  \n",
       "256584      65      30            13             6            5  "
      ]
     },
     "execution_count": 27,
     "metadata": {},
     "output_type": "execute_result"
    }
   ],
   "source": [
    "def common_words(row):\n",
    "    w1 = set(map(lambda word: word.lower().strip(), row['question1'].split(\" \")))\n",
    "    w2 = set(map(lambda word: word.lower().strip(), row['question2'].split(\" \")))    \n",
    "    return len(w1 & w2)\n",
    "\n",
    "new_df['word_common'] = new_df.apply(common_words, axis=1)\n",
    "new_df.head()"
   ]
  },
  {
   "cell_type": "code",
   "execution_count": 29,
   "id": "c9fac26c-4e69-46e9-802f-98f59c3b963f",
   "metadata": {},
   "outputs": [
    {
     "data": {
      "text/html": [
       "<div>\n",
       "<style scoped>\n",
       "    .dataframe tbody tr th:only-of-type {\n",
       "        vertical-align: middle;\n",
       "    }\n",
       "\n",
       "    .dataframe tbody tr th {\n",
       "        vertical-align: top;\n",
       "    }\n",
       "\n",
       "    .dataframe thead th {\n",
       "        text-align: right;\n",
       "    }\n",
       "</style>\n",
       "<table border=\"1\" class=\"dataframe\">\n",
       "  <thead>\n",
       "    <tr style=\"text-align: right;\">\n",
       "      <th></th>\n",
       "      <th>id</th>\n",
       "      <th>qid1</th>\n",
       "      <th>qid2</th>\n",
       "      <th>question1</th>\n",
       "      <th>question2</th>\n",
       "      <th>is_duplicate</th>\n",
       "      <th>q1_len</th>\n",
       "      <th>q2_len</th>\n",
       "      <th>q1_num_words</th>\n",
       "      <th>q2_num_words</th>\n",
       "      <th>word_common</th>\n",
       "      <th>word_total</th>\n",
       "    </tr>\n",
       "  </thead>\n",
       "  <tbody>\n",
       "    <tr>\n",
       "      <th>67050</th>\n",
       "      <td>67050</td>\n",
       "      <td>133306</td>\n",
       "      <td>133307</td>\n",
       "      <td>How much black money would be recovered in 201...</td>\n",
       "      <td>How much black money has been recovered after ...</td>\n",
       "      <td>0</td>\n",
       "      <td>69</td>\n",
       "      <td>101</td>\n",
       "      <td>11</td>\n",
       "      <td>19</td>\n",
       "      <td>6</td>\n",
       "      <td>30</td>\n",
       "    </tr>\n",
       "    <tr>\n",
       "      <th>156722</th>\n",
       "      <td>156722</td>\n",
       "      <td>309930</td>\n",
       "      <td>309931</td>\n",
       "      <td>Does a magnetic field have mass?</td>\n",
       "      <td>Can we increase the mass of an electron accele...</td>\n",
       "      <td>0</td>\n",
       "      <td>32</td>\n",
       "      <td>120</td>\n",
       "      <td>6</td>\n",
       "      <td>20</td>\n",
       "      <td>2</td>\n",
       "      <td>25</td>\n",
       "    </tr>\n",
       "    <tr>\n",
       "      <th>318365</th>\n",
       "      <td>318365</td>\n",
       "      <td>624667</td>\n",
       "      <td>624668</td>\n",
       "      <td>Why has Dhoni left the captaincy from ODI and ...</td>\n",
       "      <td>Why did M.S.Dhoni left captaincy from ODI &amp; T20?</td>\n",
       "      <td>1</td>\n",
       "      <td>50</td>\n",
       "      <td>48</td>\n",
       "      <td>10</td>\n",
       "      <td>9</td>\n",
       "      <td>6</td>\n",
       "      <td>19</td>\n",
       "    </tr>\n",
       "    <tr>\n",
       "      <th>225123</th>\n",
       "      <td>225123</td>\n",
       "      <td>443700</td>\n",
       "      <td>443701</td>\n",
       "      <td>Where can I get best assistance in Sydney for ...</td>\n",
       "      <td>Where can I get highest quality service at exc...</td>\n",
       "      <td>1</td>\n",
       "      <td>70</td>\n",
       "      <td>98</td>\n",
       "      <td>12</td>\n",
       "      <td>15</td>\n",
       "      <td>8</td>\n",
       "      <td>27</td>\n",
       "    </tr>\n",
       "    <tr>\n",
       "      <th>256584</th>\n",
       "      <td>256584</td>\n",
       "      <td>505029</td>\n",
       "      <td>505030</td>\n",
       "      <td>As a web developer how can I contribute to ope...</td>\n",
       "      <td>How do I contribute on GitHub?</td>\n",
       "      <td>1</td>\n",
       "      <td>65</td>\n",
       "      <td>30</td>\n",
       "      <td>13</td>\n",
       "      <td>6</td>\n",
       "      <td>5</td>\n",
       "      <td>19</td>\n",
       "    </tr>\n",
       "  </tbody>\n",
       "</table>\n",
       "</div>"
      ],
      "text/plain": [
       "            id    qid1    qid2  \\\n",
       "67050    67050  133306  133307   \n",
       "156722  156722  309930  309931   \n",
       "318365  318365  624667  624668   \n",
       "225123  225123  443700  443701   \n",
       "256584  256584  505029  505030   \n",
       "\n",
       "                                                question1  \\\n",
       "67050   How much black money would be recovered in 201...   \n",
       "156722                   Does a magnetic field have mass?   \n",
       "318365  Why has Dhoni left the captaincy from ODI and ...   \n",
       "225123  Where can I get best assistance in Sydney for ...   \n",
       "256584  As a web developer how can I contribute to ope...   \n",
       "\n",
       "                                                question2  is_duplicate  \\\n",
       "67050   How much black money has been recovered after ...             0   \n",
       "156722  Can we increase the mass of an electron accele...             0   \n",
       "318365   Why did M.S.Dhoni left captaincy from ODI & T20?             1   \n",
       "225123  Where can I get highest quality service at exc...             1   \n",
       "256584                     How do I contribute on GitHub?             1   \n",
       "\n",
       "        q1_len  q2_len  q1_num_words  q2_num_words  word_common  word_total  \n",
       "67050       69     101            11            19            6          30  \n",
       "156722      32     120             6            20            2          25  \n",
       "318365      50      48            10             9            6          19  \n",
       "225123      70      98            12            15            8          27  \n",
       "256584      65      30            13             6            5          19  "
      ]
     },
     "execution_count": 29,
     "metadata": {},
     "output_type": "execute_result"
    }
   ],
   "source": [
    "def total_words(row):\n",
    "    w1 = set(map(lambda word: word.lower().strip(), row['question1'].split(\" \")))\n",
    "    w2 = set(map(lambda word: word.lower().strip(), row['question2'].split(\" \")))    \n",
    "    return (len(w1) + len(w2))\n",
    "\n",
    "\n",
    "new_df['word_total'] = new_df.apply(total_words, axis=1)\n",
    "new_df.head()"
   ]
  },
  {
   "cell_type": "code",
   "execution_count": 31,
   "id": "cf4ee9bb-21cf-4024-92a5-6bce8217d92e",
   "metadata": {},
   "outputs": [
    {
     "data": {
      "text/html": [
       "<div>\n",
       "<style scoped>\n",
       "    .dataframe tbody tr th:only-of-type {\n",
       "        vertical-align: middle;\n",
       "    }\n",
       "\n",
       "    .dataframe tbody tr th {\n",
       "        vertical-align: top;\n",
       "    }\n",
       "\n",
       "    .dataframe thead th {\n",
       "        text-align: right;\n",
       "    }\n",
       "</style>\n",
       "<table border=\"1\" class=\"dataframe\">\n",
       "  <thead>\n",
       "    <tr style=\"text-align: right;\">\n",
       "      <th></th>\n",
       "      <th>id</th>\n",
       "      <th>qid1</th>\n",
       "      <th>qid2</th>\n",
       "      <th>question1</th>\n",
       "      <th>question2</th>\n",
       "      <th>is_duplicate</th>\n",
       "      <th>q1_len</th>\n",
       "      <th>q2_len</th>\n",
       "      <th>q1_num_words</th>\n",
       "      <th>q2_num_words</th>\n",
       "      <th>word_common</th>\n",
       "      <th>word_total</th>\n",
       "      <th>word_share</th>\n",
       "    </tr>\n",
       "  </thead>\n",
       "  <tbody>\n",
       "    <tr>\n",
       "      <th>67050</th>\n",
       "      <td>67050</td>\n",
       "      <td>133306</td>\n",
       "      <td>133307</td>\n",
       "      <td>How much black money would be recovered in 201...</td>\n",
       "      <td>How much black money has been recovered after ...</td>\n",
       "      <td>0</td>\n",
       "      <td>69</td>\n",
       "      <td>101</td>\n",
       "      <td>11</td>\n",
       "      <td>19</td>\n",
       "      <td>6</td>\n",
       "      <td>30</td>\n",
       "      <td>0.20</td>\n",
       "    </tr>\n",
       "    <tr>\n",
       "      <th>156722</th>\n",
       "      <td>156722</td>\n",
       "      <td>309930</td>\n",
       "      <td>309931</td>\n",
       "      <td>Does a magnetic field have mass?</td>\n",
       "      <td>Can we increase the mass of an electron accele...</td>\n",
       "      <td>0</td>\n",
       "      <td>32</td>\n",
       "      <td>120</td>\n",
       "      <td>6</td>\n",
       "      <td>20</td>\n",
       "      <td>2</td>\n",
       "      <td>25</td>\n",
       "      <td>0.08</td>\n",
       "    </tr>\n",
       "    <tr>\n",
       "      <th>318365</th>\n",
       "      <td>318365</td>\n",
       "      <td>624667</td>\n",
       "      <td>624668</td>\n",
       "      <td>Why has Dhoni left the captaincy from ODI and ...</td>\n",
       "      <td>Why did M.S.Dhoni left captaincy from ODI &amp; T20?</td>\n",
       "      <td>1</td>\n",
       "      <td>50</td>\n",
       "      <td>48</td>\n",
       "      <td>10</td>\n",
       "      <td>9</td>\n",
       "      <td>6</td>\n",
       "      <td>19</td>\n",
       "      <td>0.32</td>\n",
       "    </tr>\n",
       "    <tr>\n",
       "      <th>225123</th>\n",
       "      <td>225123</td>\n",
       "      <td>443700</td>\n",
       "      <td>443701</td>\n",
       "      <td>Where can I get best assistance in Sydney for ...</td>\n",
       "      <td>Where can I get highest quality service at exc...</td>\n",
       "      <td>1</td>\n",
       "      <td>70</td>\n",
       "      <td>98</td>\n",
       "      <td>12</td>\n",
       "      <td>15</td>\n",
       "      <td>8</td>\n",
       "      <td>27</td>\n",
       "      <td>0.30</td>\n",
       "    </tr>\n",
       "    <tr>\n",
       "      <th>256584</th>\n",
       "      <td>256584</td>\n",
       "      <td>505029</td>\n",
       "      <td>505030</td>\n",
       "      <td>As a web developer how can I contribute to ope...</td>\n",
       "      <td>How do I contribute on GitHub?</td>\n",
       "      <td>1</td>\n",
       "      <td>65</td>\n",
       "      <td>30</td>\n",
       "      <td>13</td>\n",
       "      <td>6</td>\n",
       "      <td>5</td>\n",
       "      <td>19</td>\n",
       "      <td>0.26</td>\n",
       "    </tr>\n",
       "  </tbody>\n",
       "</table>\n",
       "</div>"
      ],
      "text/plain": [
       "            id    qid1    qid2  \\\n",
       "67050    67050  133306  133307   \n",
       "156722  156722  309930  309931   \n",
       "318365  318365  624667  624668   \n",
       "225123  225123  443700  443701   \n",
       "256584  256584  505029  505030   \n",
       "\n",
       "                                                question1  \\\n",
       "67050   How much black money would be recovered in 201...   \n",
       "156722                   Does a magnetic field have mass?   \n",
       "318365  Why has Dhoni left the captaincy from ODI and ...   \n",
       "225123  Where can I get best assistance in Sydney for ...   \n",
       "256584  As a web developer how can I contribute to ope...   \n",
       "\n",
       "                                                question2  is_duplicate  \\\n",
       "67050   How much black money has been recovered after ...             0   \n",
       "156722  Can we increase the mass of an electron accele...             0   \n",
       "318365   Why did M.S.Dhoni left captaincy from ODI & T20?             1   \n",
       "225123  Where can I get highest quality service at exc...             1   \n",
       "256584                     How do I contribute on GitHub?             1   \n",
       "\n",
       "        q1_len  q2_len  q1_num_words  q2_num_words  word_common  word_total  \\\n",
       "67050       69     101            11            19            6          30   \n",
       "156722      32     120             6            20            2          25   \n",
       "318365      50      48            10             9            6          19   \n",
       "225123      70      98            12            15            8          27   \n",
       "256584      65      30            13             6            5          19   \n",
       "\n",
       "        word_share  \n",
       "67050         0.20  \n",
       "156722        0.08  \n",
       "318365        0.32  \n",
       "225123        0.30  \n",
       "256584        0.26  "
      ]
     },
     "execution_count": 31,
     "metadata": {},
     "output_type": "execute_result"
    }
   ],
   "source": [
    "new_df['word_share'] = round(new_df['word_common']/new_df['word_total'],2)\n",
    "new_df.head()"
   ]
  },
  {
   "cell_type": "code",
   "execution_count": 33,
   "id": "43327a5b-74f8-4c20-a51e-b2fd00907e85",
   "metadata": {},
   "outputs": [
    {
     "name": "stdout",
     "output_type": "stream",
     "text": [
      "minimum characters 3\n",
      "maximum characters 315\n",
      "average num of characters 59\n"
     ]
    },
    {
     "data": {
      "image/png": "[encoded data removed]",
      "text/plain": [
       "<Figure size 500x500 with 1 Axes>"
      ]
     },
     "metadata": {},
     "output_type": "display_data"
    }
   ],
   "source": [
    "# Analysis of features\n",
    "sns.displot(new_df['q1_len'])\n",
    "print('minimum characters',new_df['q1_len'].min())\n",
    "print('maximum characters',new_df['q1_len'].max())\n",
    "print('average num of characters',int(new_df['q1_len'].mean()))"
   ]
  },
  {
   "cell_type": "code",
   "execution_count": 35,
   "id": "f6aa586c-f4fe-43e3-8deb-509dfbf25537",
   "metadata": {},
   "outputs": [
    {
     "name": "stdout",
     "output_type": "stream",
     "text": [
      "minimum characters 5\n",
      "maximum characters 1151\n",
      "average num of characters 60\n"
     ]
    },
    {
     "data": {
      "image/png": "[encoded data removed]",
      "text/plain": [
       "<Figure size 500x500 with 1 Axes>"
      ]
     },
     "metadata": {},
     "output_type": "display_data"
    }
   ],
   "source": [
    "sns.displot(new_df['q2_len'])\n",
    "print('minimum characters',new_df['q2_len'].min())\n",
    "print('maximum characters',new_df['q2_len'].max())\n",
    "print('average num of characters',int(new_df['q2_len'].mean()))"
   ]
  },
  {
   "cell_type": "code",
   "execution_count": 37,
   "id": "2e80010f-9a33-40ef-857e-6e5cdd778a05",
   "metadata": {},
   "outputs": [
    {
     "name": "stdout",
     "output_type": "stream",
     "text": [
      "minimum words 1\n",
      "maximum words 63\n",
      "average num of words 10\n"
     ]
    },
    {
     "data": {
      "image/png": "[encoded data removed]",
      "text/plain": [
       "<Figure size 500x500 with 1 Axes>"
      ]
     },
     "metadata": {},
     "output_type": "display_data"
    }
   ],
   "source": [
    "sns.displot(new_df['q1_num_words'])\n",
    "print('minimum words',new_df['q1_num_words'].min())\n",
    "print('maximum words',new_df['q1_num_words'].max())\n",
    "print('average num of words',int(new_df['q1_num_words'].mean()))"
   ]
  },
  {
   "cell_type": "code",
   "execution_count": 39,
   "id": "7119e367-7cfc-43e9-b518-e17ae5e96c03",
   "metadata": {},
   "outputs": [
    {
     "name": "stdout",
     "output_type": "stream",
     "text": [
      "minimum words 1\n",
      "maximum words 237\n",
      "average num of words 11\n"
     ]
    },
    {
     "data": {
      "image/png": "[encoded data removed]",
      "text/plain": [
       "<Figure size 500x500 with 1 Axes>"
      ]
     },
     "metadata": {},
     "output_type": "display_data"
    }
   ],
   "source": [
    "sns.displot(new_df['q2_num_words'])\n",
    "print('minimum words',new_df['q2_num_words'].min())\n",
    "print('maximum words',new_df['q2_num_words'].max())\n",
    "print('average num of words',int(new_df['q2_num_words'].mean()))"
   ]
  },
  {
   "cell_type": "code",
   "execution_count": 41,
   "id": "79dab3cc-81d4-4b5a-8d2e-2dedbdc610ca",
   "metadata": {},
   "outputs": [
    {
     "data": {
      "image/png": "[encoded data removed]",
      "text/plain": [
       "<Figure size 640x480 with 1 Axes>"
      ]
     },
     "metadata": {},
     "output_type": "display_data"
    }
   ],
   "source": [
    "# common words\n",
    "sns.distplot(new_df[new_df['is_duplicate'] == 0]['word_common'],label='non duplicate')\n",
    "sns.distplot(new_df[new_df['is_duplicate'] == 1]['word_common'],label='duplicate')\n",
    "plt.legend()\n",
    "plt.show()"
   ]
  },
  {
   "cell_type": "code",
   "execution_count": 43,
   "id": "6beebaf5-fa44-43a2-8f86-e2c3af755fa5",
   "metadata": {},
   "outputs": [
    {
     "data": {
      "image/png": "[encoded data removed]",
      "text/plain": [
       "<Figure size 640x480 with 1 Axes>"
      ]
     },
     "metadata": {},
     "output_type": "display_data"
    }
   ],
   "source": [
    "# total words\n",
    "sns.distplot(new_df[new_df['is_duplicate'] == 0]['word_total'],label='non duplicate')\n",
    "sns.distplot(new_df[new_df['is_duplicate'] == 1]['word_total'],label='duplicate')\n",
    "plt.legend()\n",
    "plt.show()"
   ]
  },
  {
   "cell_type": "code",
   "execution_count": 45,
   "id": "ad2658af-5ea1-4154-a6c5-77a52f528723",
   "metadata": {},
   "outputs": [
    {
     "data": {
      "image/png": "[encoded data removed]",
      "text/plain": [
       "<Figure size 640x480 with 1 Axes>"
      ]
     },
     "metadata": {},
     "output_type": "display_data"
    }
   ],
   "source": [
    "# word share\n",
    "sns.distplot(new_df[new_df['is_duplicate'] == 0]['word_share'],label='non duplicate')\n",
    "sns.distplot(new_df[new_df['is_duplicate'] == 1]['word_share'],label='duplicate')\n",
    "plt.legend()\n",
    "plt.show()"
   ]
  },
  {
   "cell_type": "code",
   "execution_count": 47,
   "id": "5c29010a-8d77-463f-b7c7-be3cd2b2ae11",
   "metadata": {},
   "outputs": [
    {
     "data": {
      "text/html": [
       "<div>\n",
       "<style scoped>\n",
       "    .dataframe tbody tr th:only-of-type {\n",
       "        vertical-align: middle;\n",
       "    }\n",
       "\n",
       "    .dataframe tbody tr th {\n",
       "        vertical-align: top;\n",
       "    }\n",
       "\n",
       "    .dataframe thead th {\n",
       "        text-align: right;\n",
       "    }\n",
       "</style>\n",
       "<table border=\"1\" class=\"dataframe\">\n",
       "  <thead>\n",
       "    <tr style=\"text-align: right;\">\n",
       "      <th></th>\n",
       "      <th>question1</th>\n",
       "      <th>question2</th>\n",
       "    </tr>\n",
       "  </thead>\n",
       "  <tbody>\n",
       "    <tr>\n",
       "      <th>67050</th>\n",
       "      <td>How much black money would be recovered in 201...</td>\n",
       "      <td>How much black money has been recovered after ...</td>\n",
       "    </tr>\n",
       "    <tr>\n",
       "      <th>156722</th>\n",
       "      <td>Does a magnetic field have mass?</td>\n",
       "      <td>Can we increase the mass of an electron accele...</td>\n",
       "    </tr>\n",
       "    <tr>\n",
       "      <th>318365</th>\n",
       "      <td>Why has Dhoni left the captaincy from ODI and ...</td>\n",
       "      <td>Why did M.S.Dhoni left captaincy from ODI &amp; T20?</td>\n",
       "    </tr>\n",
       "    <tr>\n",
       "      <th>225123</th>\n",
       "      <td>Where can I get best assistance in Sydney for ...</td>\n",
       "      <td>Where can I get highest quality service at exc...</td>\n",
       "    </tr>\n",
       "    <tr>\n",
       "      <th>256584</th>\n",
       "      <td>As a web developer how can I contribute to ope...</td>\n",
       "      <td>How do I contribute on GitHub?</td>\n",
       "    </tr>\n",
       "  </tbody>\n",
       "</table>\n",
       "</div>"
      ],
      "text/plain": [
       "                                                question1  \\\n",
       "67050   How much black money would be recovered in 201...   \n",
       "156722                   Does a magnetic field have mass?   \n",
       "318365  Why has Dhoni left the captaincy from ODI and ...   \n",
       "225123  Where can I get best assistance in Sydney for ...   \n",
       "256584  As a web developer how can I contribute to ope...   \n",
       "\n",
       "                                                question2  \n",
       "67050   How much black money has been recovered after ...  \n",
       "156722  Can we increase the mass of an electron accele...  \n",
       "318365   Why did M.S.Dhoni left captaincy from ODI & T20?  \n",
       "225123  Where can I get highest quality service at exc...  \n",
       "256584                     How do I contribute on GitHub?  "
      ]
     },
     "execution_count": 47,
     "metadata": {},
     "output_type": "execute_result"
    }
   ],
   "source": [
    "ques_df = new_df[['question1','question2']]\n",
    "ques_df.head()"
   ]
  },
  {
   "cell_type": "code",
   "execution_count": 49,
   "id": "eb131443-2bdb-4578-bfe0-8d9f485993a4",
   "metadata": {},
   "outputs": [
    {
     "name": "stdout",
     "output_type": "stream",
     "text": [
      "(30000, 8)\n"
     ]
    },
    {
     "data": {
      "text/html": [
       "<div>\n",
       "<style scoped>\n",
       "    .dataframe tbody tr th:only-of-type {\n",
       "        vertical-align: middle;\n",
       "    }\n",
       "\n",
       "    .dataframe tbody tr th {\n",
       "        vertical-align: top;\n",
       "    }\n",
       "\n",
       "    .dataframe thead th {\n",
       "        text-align: right;\n",
       "    }\n",
       "</style>\n",
       "<table border=\"1\" class=\"dataframe\">\n",
       "  <thead>\n",
       "    <tr style=\"text-align: right;\">\n",
       "      <th></th>\n",
       "      <th>is_duplicate</th>\n",
       "      <th>q1_len</th>\n",
       "      <th>q2_len</th>\n",
       "      <th>q1_num_words</th>\n",
       "      <th>q2_num_words</th>\n",
       "      <th>word_common</th>\n",
       "      <th>word_total</th>\n",
       "      <th>word_share</th>\n",
       "    </tr>\n",
       "  </thead>\n",
       "  <tbody>\n",
       "    <tr>\n",
       "      <th>67050</th>\n",
       "      <td>0</td>\n",
       "      <td>69</td>\n",
       "      <td>101</td>\n",
       "      <td>11</td>\n",
       "      <td>19</td>\n",
       "      <td>6</td>\n",
       "      <td>30</td>\n",
       "      <td>0.20</td>\n",
       "    </tr>\n",
       "    <tr>\n",
       "      <th>156722</th>\n",
       "      <td>0</td>\n",
       "      <td>32</td>\n",
       "      <td>120</td>\n",
       "      <td>6</td>\n",
       "      <td>20</td>\n",
       "      <td>2</td>\n",
       "      <td>25</td>\n",
       "      <td>0.08</td>\n",
       "    </tr>\n",
       "    <tr>\n",
       "      <th>318365</th>\n",
       "      <td>1</td>\n",
       "      <td>50</td>\n",
       "      <td>48</td>\n",
       "      <td>10</td>\n",
       "      <td>9</td>\n",
       "      <td>6</td>\n",
       "      <td>19</td>\n",
       "      <td>0.32</td>\n",
       "    </tr>\n",
       "    <tr>\n",
       "      <th>225123</th>\n",
       "      <td>1</td>\n",
       "      <td>70</td>\n",
       "      <td>98</td>\n",
       "      <td>12</td>\n",
       "      <td>15</td>\n",
       "      <td>8</td>\n",
       "      <td>27</td>\n",
       "      <td>0.30</td>\n",
       "    </tr>\n",
       "    <tr>\n",
       "      <th>256584</th>\n",
       "      <td>1</td>\n",
       "      <td>65</td>\n",
       "      <td>30</td>\n",
       "      <td>13</td>\n",
       "      <td>6</td>\n",
       "      <td>5</td>\n",
       "      <td>19</td>\n",
       "      <td>0.26</td>\n",
       "    </tr>\n",
       "  </tbody>\n",
       "</table>\n",
       "</div>"
      ],
      "text/plain": [
       "        is_duplicate  q1_len  q2_len  q1_num_words  q2_num_words  word_common  \\\n",
       "67050              0      69     101            11            19            6   \n",
       "156722             0      32     120             6            20            2   \n",
       "318365             1      50      48            10             9            6   \n",
       "225123             1      70      98            12            15            8   \n",
       "256584             1      65      30            13             6            5   \n",
       "\n",
       "        word_total  word_share  \n",
       "67050           30        0.20  \n",
       "156722          25        0.08  \n",
       "318365          19        0.32  \n",
       "225123          27        0.30  \n",
       "256584          19        0.26  "
      ]
     },
     "execution_count": 49,
     "metadata": {},
     "output_type": "execute_result"
    }
   ],
   "source": [
    "final_df = new_df.drop(columns=['id','qid1','qid2','question1','question2'])\n",
    "print(final_df.shape)\n",
    "final_df.head()"
   ]
  },
  {
   "cell_type": "code",
   "execution_count": 51,
   "id": "7542f581-d1d9-4ea9-9d54-8cbaad9dd655",
   "metadata": {},
   "outputs": [],
   "source": [
    "from sklearn.feature_extraction.text import CountVectorizer\n",
    "# merge texts\n",
    "questions = list(ques_df['question1']) + list(ques_df['question2'])\n",
    "\n",
    "cv = CountVectorizer(max_features=3000)\n",
    "q1_arr, q2_arr = np.vsplit(cv.fit_transform(questions).toarray(),2)"
   ]
  },
  {
   "cell_type": "code",
   "execution_count": 53,
   "id": "fd932f38-bdd4-4e73-bd30-ff8437f3c418",
   "metadata": {},
   "outputs": [
    {
     "data": {
      "text/plain": [
       "(30000, 6000)"
      ]
     },
     "execution_count": 53,
     "metadata": {},
     "output_type": "execute_result"
    }
   ],
   "source": [
    "temp_df1 = pd.DataFrame(q1_arr, index= ques_df.index)\n",
    "temp_df2 = pd.DataFrame(q2_arr, index= ques_df.index)\n",
    "temp_df = pd.concat([temp_df1, temp_df2], axis=1)\n",
    "temp_df.shape"
   ]
  },
  {
   "cell_type": "code",
   "execution_count": 55,
   "id": "6a5ea876-46f4-4cc6-9bfe-5d2b074a7fe0",
   "metadata": {},
   "outputs": [
    {
     "name": "stdout",
     "output_type": "stream",
     "text": [
      "(30000, 6008)\n"
     ]
    },
    {
     "data": {
      "text/html": [
       "<div>\n",
       "<style scoped>\n",
       "    .dataframe tbody tr th:only-of-type {\n",
       "        vertical-align: middle;\n",
       "    }\n",
       "\n",
       "    .dataframe tbody tr th {\n",
       "        vertical-align: top;\n",
       "    }\n",
       "\n",
       "    .dataframe thead th {\n",
       "        text-align: right;\n",
       "    }\n",
       "</style>\n",
       "<table border=\"1\" class=\"dataframe\">\n",
       "  <thead>\n",
       "    <tr style=\"text-align: right;\">\n",
       "      <th></th>\n",
       "      <th>is_duplicate</th>\n",
       "      <th>q1_len</th>\n",
       "      <th>q2_len</th>\n",
       "      <th>q1_num_words</th>\n",
       "      <th>q2_num_words</th>\n",
       "      <th>word_common</th>\n",
       "      <th>word_total</th>\n",
       "      <th>word_share</th>\n",
       "      <th>0</th>\n",
       "      <th>1</th>\n",
       "      <th>...</th>\n",
       "      <th>2990</th>\n",
       "      <th>2991</th>\n",
       "      <th>2992</th>\n",
       "      <th>2993</th>\n",
       "      <th>2994</th>\n",
       "      <th>2995</th>\n",
       "      <th>2996</th>\n",
       "      <th>2997</th>\n",
       "      <th>2998</th>\n",
       "      <th>2999</th>\n",
       "    </tr>\n",
       "  </thead>\n",
       "  <tbody>\n",
       "    <tr>\n",
       "      <th>67050</th>\n",
       "      <td>0</td>\n",
       "      <td>69</td>\n",
       "      <td>101</td>\n",
       "      <td>11</td>\n",
       "      <td>19</td>\n",
       "      <td>6</td>\n",
       "      <td>30</td>\n",
       "      <td>0.20</td>\n",
       "      <td>0</td>\n",
       "      <td>0</td>\n",
       "      <td>...</td>\n",
       "      <td>0</td>\n",
       "      <td>0</td>\n",
       "      <td>0</td>\n",
       "      <td>0</td>\n",
       "      <td>0</td>\n",
       "      <td>0</td>\n",
       "      <td>0</td>\n",
       "      <td>0</td>\n",
       "      <td>0</td>\n",
       "      <td>0</td>\n",
       "    </tr>\n",
       "    <tr>\n",
       "      <th>156722</th>\n",
       "      <td>0</td>\n",
       "      <td>32</td>\n",
       "      <td>120</td>\n",
       "      <td>6</td>\n",
       "      <td>20</td>\n",
       "      <td>2</td>\n",
       "      <td>25</td>\n",
       "      <td>0.08</td>\n",
       "      <td>0</td>\n",
       "      <td>0</td>\n",
       "      <td>...</td>\n",
       "      <td>0</td>\n",
       "      <td>0</td>\n",
       "      <td>0</td>\n",
       "      <td>0</td>\n",
       "      <td>0</td>\n",
       "      <td>0</td>\n",
       "      <td>0</td>\n",
       "      <td>0</td>\n",
       "      <td>0</td>\n",
       "      <td>0</td>\n",
       "    </tr>\n",
       "    <tr>\n",
       "      <th>318365</th>\n",
       "      <td>1</td>\n",
       "      <td>50</td>\n",
       "      <td>48</td>\n",
       "      <td>10</td>\n",
       "      <td>9</td>\n",
       "      <td>6</td>\n",
       "      <td>19</td>\n",
       "      <td>0.32</td>\n",
       "      <td>0</td>\n",
       "      <td>0</td>\n",
       "      <td>...</td>\n",
       "      <td>0</td>\n",
       "      <td>0</td>\n",
       "      <td>0</td>\n",
       "      <td>0</td>\n",
       "      <td>0</td>\n",
       "      <td>0</td>\n",
       "      <td>0</td>\n",
       "      <td>0</td>\n",
       "      <td>0</td>\n",
       "      <td>0</td>\n",
       "    </tr>\n",
       "    <tr>\n",
       "      <th>225123</th>\n",
       "      <td>1</td>\n",
       "      <td>70</td>\n",
       "      <td>98</td>\n",
       "      <td>12</td>\n",
       "      <td>15</td>\n",
       "      <td>8</td>\n",
       "      <td>27</td>\n",
       "      <td>0.30</td>\n",
       "      <td>0</td>\n",
       "      <td>0</td>\n",
       "      <td>...</td>\n",
       "      <td>0</td>\n",
       "      <td>0</td>\n",
       "      <td>0</td>\n",
       "      <td>0</td>\n",
       "      <td>0</td>\n",
       "      <td>0</td>\n",
       "      <td>0</td>\n",
       "      <td>0</td>\n",
       "      <td>0</td>\n",
       "      <td>0</td>\n",
       "    </tr>\n",
       "    <tr>\n",
       "      <th>256584</th>\n",
       "      <td>1</td>\n",
       "      <td>65</td>\n",
       "      <td>30</td>\n",
       "      <td>13</td>\n",
       "      <td>6</td>\n",
       "      <td>5</td>\n",
       "      <td>19</td>\n",
       "      <td>0.26</td>\n",
       "      <td>0</td>\n",
       "      <td>0</td>\n",
       "      <td>...</td>\n",
       "      <td>0</td>\n",
       "      <td>0</td>\n",
       "      <td>0</td>\n",
       "      <td>0</td>\n",
       "      <td>0</td>\n",
       "      <td>0</td>\n",
       "      <td>0</td>\n",
       "      <td>0</td>\n",
       "      <td>0</td>\n",
       "      <td>0</td>\n",
       "    </tr>\n",
       "  </tbody>\n",
       "</table>\n",
       "<p>5 rows × 6008 columns</p>\n",
       "</div>"
      ],
      "text/plain": [
       "        is_duplicate  q1_len  q2_len  q1_num_words  q2_num_words  word_common  \\\n",
       "67050              0      69     101            11            19            6   \n",
       "156722             0      32     120             6            20            2   \n",
       "318365             1      50      48            10             9            6   \n",
       "225123             1      70      98            12            15            8   \n",
       "256584             1      65      30            13             6            5   \n",
       "\n",
       "        word_total  word_share  0  1  ...  2990  2991  2992  2993  2994  2995  \\\n",
       "67050           30        0.20  0  0  ...     0     0     0     0     0     0   \n",
       "156722          25        0.08  0  0  ...     0     0     0     0     0     0   \n",
       "318365          19        0.32  0  0  ...     0     0     0     0     0     0   \n",
       "225123          27        0.30  0  0  ...     0     0     0     0     0     0   \n",
       "256584          19        0.26  0  0  ...     0     0     0     0     0     0   \n",
       "\n",
       "        2996  2997  2998  2999  \n",
       "67050      0     0     0     0  \n",
       "156722     0     0     0     0  \n",
       "318365     0     0     0     0  \n",
       "225123     0     0     0     0  \n",
       "256584     0     0     0     0  \n",
       "\n",
       "[5 rows x 6008 columns]"
      ]
     },
     "execution_count": 55,
     "metadata": {},
     "output_type": "execute_result"
    }
   ],
   "source": [
    "final_df = pd.concat([final_df, temp_df], axis=1)\n",
    "print(final_df.shape)\n",
    "final_df.head()"
   ]
  },
  {
   "cell_type": "code",
   "execution_count": 57,
   "id": "9c71ef26-f126-43c3-a116-c51586b2892c",
   "metadata": {},
   "outputs": [],
   "source": [
    "from sklearn.model_selection import train_test_split\n",
    "X_train,X_test,y_train,y_test = train_test_split(final_df.iloc[:,1:].values,final_df.iloc[:,0].values,test_size=0.2,random_state=1)"
   ]
  },
  {
   "cell_type": "code",
   "execution_count": 59,
   "id": "721d4e27-068d-4fb5-85da-90f1152fb88c",
   "metadata": {},
   "outputs": [
    {
     "data": {
      "text/plain": [
       "0.764"
      ]
     },
     "execution_count": 59,
     "metadata": {},
     "output_type": "execute_result"
    }
   ],
   "source": [
    "from sklearn.ensemble import RandomForestClassifier\n",
    "from sklearn.metrics import accuracy_score\n",
    "rf = RandomForestClassifier()\n",
    "rf.fit(X_train,y_train)\n",
    "y_pred = rf.predict(X_test)\n",
    "accuracy_score(y_test,y_pred)"
   ]
  },
  {
   "cell_type": "code",
   "execution_count": 61,
   "id": "2fd93f4e-a725-4ecc-9033-f068e5c905de",
   "metadata": {},
   "outputs": [
    {
     "data": {
      "text/plain": [
       "0.7683333333333333"
      ]
     },
     "execution_count": 61,
     "metadata": {},
     "output_type": "execute_result"
    }
   ],
   "source": [
    "from xgboost import XGBClassifier\n",
    "xgb = XGBClassifier()\n",
    "xgb.fit(X_train,y_train)\n",
    "y_pred1 = xgb.predict(X_test)\n",
    "accuracy_score(y_test,y_pred1)"
   ]
  },
  {
   "cell_type": "code",
   "execution_count": null,
   "id": "2232c823-027d-466e-bcf5-168b61ae8fb5",
   "metadata": {},
   "outputs": [],
   "source": []
  }
 ],
 "metadata": {
  "kernelspec": {
   "display_name": "Python [conda env:base] *",
   "language": "python",
   "name": "conda-base-py"
  },
  "language_info": {
   "codemirror_mode": {
    "name": "ipython",
    "version": 3
   },
   "file_extension": ".py",
   "mimetype": "text/x-python",
   "name": "python",
   "nbconvert_exporter": "python",
   "pygments_lexer": "ipython3",
   "version": "3.12.7"
  }
 },
 "nbformat": 4,
 "nbformat_minor": 5
}
